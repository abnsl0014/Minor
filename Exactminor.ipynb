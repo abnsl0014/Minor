{
 "cells": [
  {
   "cell_type": "code",
   "execution_count": 1,
   "metadata": {},
   "outputs": [
    {
     "name": "stderr",
     "output_type": "stream",
     "text": [
      "Using TensorFlow backend.\n"
     ]
    }
   ],
   "source": [
    "import numpy as np\n",
    "import pandas as pd\n",
    "#import emoji\n",
    "\n",
    "from keras.models import Sequential\n",
    "from keras.layers import Dense, Input, Dropout, SimpleRNN,LSTM, Activation\n",
    "from keras.utils import np_utils\n",
    "\n",
    "import matplotlib.pyplot as plt\n",
    "import random"
   ]
  },
  {
   "cell_type": "code",
   "execution_count": 2,
   "metadata": {},
   "outputs": [],
   "source": [
    "r = pd.read_csv('dsf2.csv')"
   ]
  },
  {
   "cell_type": "code",
   "execution_count": 3,
   "metadata": {},
   "outputs": [],
   "source": [
    "from sklearn.model_selection import train_test_split\n",
    "x = r['Content']\n",
    "y = r['Label']\n",
    "x_train, x_test, y_train, y_test = train_test_split(x, y, test_size=0.2,random_state=123)"
   ]
  },
  {
   "cell_type": "code",
   "execution_count": 4,
   "metadata": {},
   "outputs": [],
   "source": [
    "x_train = x_train.reset_index(drop=True)\n",
    "x_test = x_test.reset_index(drop=True)\n",
    "y_train = y_train.reset_index(drop=True)\n",
    "y_test = y_test.reset_index(drop=True)"
   ]
  },
  {
   "cell_type": "code",
   "execution_count": 5,
   "metadata": {},
   "outputs": [],
   "source": [
    "f = open('glove.6B.50d.txt')"
   ]
  },
  {
   "cell_type": "code",
   "execution_count": 6,
   "metadata": {},
   "outputs": [],
   "source": [
    "for ix in range(1, x_train.shape[0]):\n",
    "    x_train[ix] = x_train[ix].split()\n",
    "    \n",
    "for ix in range(1, x_test.shape[0]):\n",
    "    x_test[ix] = x_test[ix].split()\n",
    "\n"
   ]
  },
  {
   "cell_type": "code",
   "execution_count": 7,
   "metadata": {},
   "outputs": [],
   "source": [
    "#dictionary \n",
    "embeddings_index = {}\n",
    "cnt = 0\n",
    "for line in f:\n",
    "    values = line.split()\n",
    "    word = values[0]\n",
    "    coefs = np.asarray(values[1:], dtype = 'float')\n",
    "    embeddings_index[word] = coefs\n",
    "f.close()"
   ]
  },
  {
   "cell_type": "code",
   "execution_count": 8,
   "metadata": {},
   "outputs": [
    {
     "data": {
      "text/plain": [
       "array([ 6.4295e-01, -4.2946e-01, -5.4277e-01, -1.0307e+00,  1.2056e+00,\n",
       "       -2.7174e-01, -6.3561e-01, -1.5065e-02,  3.7856e-01,  4.6474e-02,\n",
       "       -1.3102e-01,  6.0500e-01,  1.6391e+00,  2.3940e-01,  1.2128e+00,\n",
       "        8.3178e-01,  7.3893e-01,  1.5200e-01, -1.4175e-01, -8.8384e-01,\n",
       "        2.0829e-02, -3.2545e-01,  1.8035e+00,  1.0045e+00,  5.8484e-01,\n",
       "       -6.2031e-01, -4.3296e-01,  2.3562e-01,  1.3027e+00, -8.1264e-01,\n",
       "        2.3158e+00,  1.1030e+00, -6.0608e-01,  1.0101e+00, -2.2426e-01,\n",
       "        1.8908e-02, -1.0931e-01,  3.8350e-01,  7.7362e-01, -8.1927e-02,\n",
       "       -3.4040e-01, -1.5143e-03, -5.6640e-02,  8.7359e-01,  1.4805e+00,\n",
       "        6.9421e-01, -3.0966e-01, -9.0826e-01,  3.7277e-03,  8.4550e-01])"
      ]
     },
     "execution_count": 8,
     "metadata": {},
     "output_type": "execute_result"
    }
   ],
   "source": [
    "embeddings_index['eat']"
   ]
  },
  {
   "cell_type": "code",
   "execution_count": 9,
   "metadata": {},
   "outputs": [],
   "source": [
    "emb_dim = embeddings_index[\"eat\"].shape[0]\n",
    "def embedding_output(X):\n",
    "    embedding_matrix = np.zeros((X.shape[0], maxLen, emb_dim))\n",
    "    for word, index in tokenizer.word_index.items():\n",
    "        if index > vocabulary_size - 1:\n",
    "            break\n",
    "        else:\n",
    "            embedding_vector = embeddings_index.get(word)\n",
    "            if embedding_vector is not None:\n",
    "                embedding_matrix[index] = embedding_vector\n",
    "    return embedding_out"
   ]
  },
  {
   "cell_type": "code",
   "execution_count": 10,
   "metadata": {},
   "outputs": [],
   "source": [
    "def embedding_output(X):\n",
    "    maxLen = 5000\n",
    "    embedding_out = np.zeros((X.shape[0], maxLen, emb_dim))\n",
    "    \n",
    "    #for ix in range(X.shape[0]):\n",
    "       # X[ix] = X[ix].split()\n",
    "    \n",
    "    for ix in range(1, X.shape[0]):\n",
    "        for ij in range(1, len(X[ix])):\n",
    "            try:\n",
    "                embedding_out[ix][ij] = embeddings_index[X[ix][ij].lower()]\n",
    "            except:\n",
    "                embedding_out[ix][ij] = np.zeros((50, ))\n",
    "    return embedding_out"
   ]
  },
  {
   "cell_type": "code",
   "execution_count": 11,
   "metadata": {},
   "outputs": [],
   "source": [
    "embeddings_matrix_train = embedding_output(x_train)\n",
    "embeddings_matrix_test = embedding_output(x_test)"
   ]
  },
  {
   "cell_type": "code",
   "execution_count": 12,
   "metadata": {},
   "outputs": [],
   "source": [
    "from keras.utils.np_utils import to_categorical"
   ]
  },
  {
   "cell_type": "code",
   "execution_count": 13,
   "metadata": {},
   "outputs": [],
   "source": [
    "y_train = to_categorical((y_train), 4)\n",
    "y_test = to_categorical((y_test),4)\n"
   ]
  },
  {
   "cell_type": "code",
   "execution_count": 14,
   "metadata": {},
   "outputs": [
    {
     "name": "stdout",
     "output_type": "stream",
     "text": [
      "(1428, 5000, 50) (358, 5000, 50)\n"
     ]
    }
   ],
   "source": [
    "print (embeddings_matrix_train.shape, embeddings_matrix_test.shape)"
   ]
  },
  {
   "cell_type": "code",
   "execution_count": 15,
   "metadata": {},
   "outputs": [],
   "source": [
    "from keras.models import Sequential\n",
    "from keras.layers import *"
   ]
  },
  {
   "cell_type": "code",
   "execution_count": 16,
   "metadata": {},
   "outputs": [
    {
     "name": "stdout",
     "output_type": "stream",
     "text": [
      "Model: \"sequential_1\"\n",
      "_________________________________________________________________\n",
      "Layer (type)                 Output Shape              Param #   \n",
      "=================================================================\n",
      "lstm_1 (LSTM)                (None, 64)                29440     \n",
      "_________________________________________________________________\n",
      "dropout_1 (Dropout)          (None, 64)                0         \n",
      "_________________________________________________________________\n",
      "dense_1 (Dense)              (None, 4)                 260       \n",
      "_________________________________________________________________\n",
      "activation_1 (Activation)    (None, 4)                 0         \n",
      "=================================================================\n",
      "Total params: 29,700\n",
      "Trainable params: 29,700\n",
      "Non-trainable params: 0\n",
      "_________________________________________________________________\n"
     ]
    }
   ],
   "source": [
    "model = Sequential()\n",
    "model.add(LSTM(64, input_shape=(5000,50)))\n",
    "#model.add(Dropout(0.5))\n",
    "#model.add(LSTM(64, return_sequences=False))\n",
    "model.add(Dropout(0.5))\n",
    "model.add(Dense(4))\n",
    "model.add(Activation('softmax'))\n",
    "model.compile(loss ='categorical_crossentropy',optimizer='adam',metrics=['accuracy'])\n",
    "\n",
    "model.summary()"
   ]
  },
  {
   "cell_type": "code",
   "execution_count": 17,
   "metadata": {},
   "outputs": [],
   "source": [
    "from keras import optimizers\n",
    "model.compile(loss='categorical_crossentropy', optimizer=optimizers.adam(learning_rate = 0.1), metrics=['accuracy'])"
   ]
  },
  {
   "cell_type": "code",
   "execution_count": 23,
   "metadata": {},
   "outputs": [
    {
     "name": "stdout",
     "output_type": "stream",
     "text": [
      "Train on 1142 samples, validate on 286 samples\n",
      "Epoch 1/100\n",
      "1142/1142 [==============================] - 114s 100ms/step - loss: 0.9161 - accuracy: 0.6848 - val_loss: 0.6396 - val_accuracy: 0.7587\n",
      "Epoch 2/100\n",
      "1142/1142 [==============================] - 109s 95ms/step - loss: 0.8890 - accuracy: 0.6550 - val_loss: 0.6455 - val_accuracy: 0.7483\n",
      "Epoch 3/100\n",
      "1142/1142 [==============================] - 106s 93ms/step - loss: 0.8468 - accuracy: 0.6795 - val_loss: 0.6510 - val_accuracy: 0.7622\n",
      "Epoch 4/100\n",
      "1142/1142 [==============================] - 121s 106ms/step - loss: 0.8054 - accuracy: 0.6874 - val_loss: 0.7417 - val_accuracy: 0.7413\n",
      "Epoch 5/100\n",
      "1142/1142 [==============================] - 115s 101ms/step - loss: 0.8180 - accuracy: 0.6883 - val_loss: 0.7163 - val_accuracy: 0.7483\n",
      "Epoch 6/100\n",
      "1142/1142 [==============================] - 118s 104ms/step - loss: 0.7613 - accuracy: 0.7163 - val_loss: 0.6612 - val_accuracy: 0.7587\n",
      "Epoch 7/100\n",
      "1142/1142 [==============================] - 118s 103ms/step - loss: 0.8676 - accuracy: 0.6743 - val_loss: 0.6707 - val_accuracy: 0.5699\n",
      "Epoch 8/100\n",
      "1142/1142 [==============================] - 114s 100ms/step - loss: 0.9945 - accuracy: 0.6541 - val_loss: 0.7588 - val_accuracy: 0.7552\n",
      "Epoch 9/100\n",
      "1142/1142 [==============================] - 104s 91ms/step - loss: 0.8518 - accuracy: 0.6681 - val_loss: 0.6626 - val_accuracy: 0.7517\n",
      "Epoch 10/100\n",
      "1142/1142 [==============================] - 103s 91ms/step - loss: 0.8264 - accuracy: 0.6655 - val_loss: 0.6640 - val_accuracy: 0.7483\n",
      "Epoch 11/100\n",
      "1142/1142 [==============================] - 105s 92ms/step - loss: 0.8214 - accuracy: 0.6918 - val_loss: 0.7436 - val_accuracy: 0.7238\n",
      "Epoch 12/100\n",
      "1142/1142 [==============================] - 104s 91ms/step - loss: 0.8298 - accuracy: 0.6813 - val_loss: 0.7297 - val_accuracy: 0.7168\n",
      "Epoch 13/100\n",
      "1142/1142 [==============================] - 104s 91ms/step - loss: 0.8794 - accuracy: 0.6620 - val_loss: 0.9227 - val_accuracy: 0.5245\n",
      "Epoch 14/100\n",
      "1142/1142 [==============================] - 104s 91ms/step - loss: 0.8465 - accuracy: 0.6655 - val_loss: 0.7061 - val_accuracy: 0.5839\n",
      "Epoch 15/100\n",
      "1142/1142 [==============================] - 106s 93ms/step - loss: 0.7908 - accuracy: 0.6813 - val_loss: 0.6407 - val_accuracy: 0.7587\n",
      "Epoch 16/100\n",
      "1142/1142 [==============================] - 104s 91ms/step - loss: 0.7879 - accuracy: 0.6979 - val_loss: 0.7129 - val_accuracy: 0.7308\n",
      "Epoch 17/100\n",
      "1142/1142 [==============================] - 109s 95ms/step - loss: 0.8229 - accuracy: 0.6734 - val_loss: 0.6431 - val_accuracy: 0.7622\n",
      "Epoch 18/100\n",
      "1142/1142 [==============================] - 104s 91ms/step - loss: 0.7971 - accuracy: 0.6900 - val_loss: 0.6456 - val_accuracy: 0.7587\n",
      "Epoch 19/100\n",
      "1142/1142 [==============================] - 108s 94ms/step - loss: 0.7792 - accuracy: 0.6935 - val_loss: 0.6374 - val_accuracy: 0.7587\n",
      "Epoch 20/100\n",
      "1142/1142 [==============================] - 105s 92ms/step - loss: 0.7885 - accuracy: 0.6848 - val_loss: 0.6226 - val_accuracy: 0.7622\n",
      "Epoch 21/100\n",
      "1142/1142 [==============================] - 104s 91ms/step - loss: 0.7727 - accuracy: 0.7058 - val_loss: 0.5833 - val_accuracy: 0.7622\n",
      "Epoch 22/100\n",
      "1142/1142 [==============================] - 106s 92ms/step - loss: 0.7786 - accuracy: 0.6961 - val_loss: 0.6698 - val_accuracy: 0.7552\n",
      "Epoch 23/100\n",
      "1142/1142 [==============================] - 108s 95ms/step - loss: 0.7109 - accuracy: 0.7049 - val_loss: 0.6249 - val_accuracy: 0.7552\n",
      "Epoch 24/100\n",
      "1142/1142 [==============================] - 107s 94ms/step - loss: 0.6916 - accuracy: 0.7172 - val_loss: 0.6808 - val_accuracy: 0.7413\n",
      "Epoch 25/100\n",
      "1142/1142 [==============================] - 108s 94ms/step - loss: 0.7431 - accuracy: 0.7040 - val_loss: 0.5752 - val_accuracy: 0.7622\n",
      "Epoch 26/100\n",
      "1142/1142 [==============================] - 108s 95ms/step - loss: 0.7346 - accuracy: 0.7032 - val_loss: 0.6076 - val_accuracy: 0.7587\n",
      "Epoch 27/100\n",
      "1142/1142 [==============================] - 108s 95ms/step - loss: 0.7180 - accuracy: 0.7110 - val_loss: 0.7763 - val_accuracy: 0.7483\n",
      "Epoch 28/100\n",
      "1142/1142 [==============================] - 108s 95ms/step - loss: 0.9294 - accuracy: 0.6620 - val_loss: 0.7755 - val_accuracy: 0.7413\n",
      "Epoch 29/100\n",
      "1142/1142 [==============================] - 108s 95ms/step - loss: 0.7519 - accuracy: 0.6944 - val_loss: 0.5604 - val_accuracy: 0.7587\n",
      "Epoch 30/100\n",
      "1142/1142 [==============================] - 108s 95ms/step - loss: 0.7038 - accuracy: 0.7347 - val_loss: 0.6694 - val_accuracy: 0.7587\n",
      "Epoch 31/100\n",
      "1142/1142 [==============================] - 108s 95ms/step - loss: 0.7534 - accuracy: 0.7093 - val_loss: 0.6348 - val_accuracy: 0.7622\n",
      "Epoch 32/100\n",
      "1142/1142 [==============================] - 108s 95ms/step - loss: 0.8317 - accuracy: 0.7067 - val_loss: 0.6703 - val_accuracy: 0.7552\n",
      "Epoch 33/100\n",
      "1142/1142 [==============================] - 108s 95ms/step - loss: 0.7365 - accuracy: 0.7023 - val_loss: 0.6924 - val_accuracy: 0.7483\n",
      "Epoch 34/100\n",
      "1142/1142 [==============================] - 109s 95ms/step - loss: 0.6832 - accuracy: 0.7426 - val_loss: 0.6968 - val_accuracy: 0.6399\n",
      "Epoch 35/100\n",
      "1142/1142 [==============================] - 109s 95ms/step - loss: 0.8863 - accuracy: 0.6786 - val_loss: 1.3465 - val_accuracy: 0.4930\n",
      "Epoch 36/100\n",
      "1142/1142 [==============================] - 109s 95ms/step - loss: 1.2064 - accuracy: 0.6068 - val_loss: 0.6411 - val_accuracy: 0.7622\n",
      "Epoch 37/100\n",
      "1142/1142 [==============================] - 108s 94ms/step - loss: 0.9322 - accuracy: 0.6585 - val_loss: 0.8051 - val_accuracy: 0.6853\n",
      "Epoch 38/100\n",
      "1142/1142 [==============================] - 108s 95ms/step - loss: 0.7664 - accuracy: 0.7163 - val_loss: 0.5124 - val_accuracy: 0.8601\n",
      "Epoch 39/100\n",
      "1142/1142 [==============================] - 109s 95ms/step - loss: 0.6674 - accuracy: 0.7706 - val_loss: 0.3848 - val_accuracy: 0.8916\n",
      "Epoch 40/100\n",
      "1142/1142 [==============================] - 108s 95ms/step - loss: 0.5576 - accuracy: 0.8170 - val_loss: 0.4643 - val_accuracy: 0.8916\n",
      "Epoch 41/100\n",
      "1142/1142 [==============================] - 108s 94ms/step - loss: 0.6091 - accuracy: 0.8082 - val_loss: 0.5544 - val_accuracy: 0.9266\n",
      "Epoch 42/100\n",
      "1142/1142 [==============================] - 108s 95ms/step - loss: 0.5963 - accuracy: 0.8056 - val_loss: 0.4295 - val_accuracy: 0.8846\n",
      "Epoch 43/100\n",
      "1142/1142 [==============================] - 108s 94ms/step - loss: 0.5358 - accuracy: 0.8170 - val_loss: 0.4034 - val_accuracy: 0.9161\n",
      "Epoch 44/100\n",
      "1142/1142 [==============================] - 109s 95ms/step - loss: 0.4742 - accuracy: 0.8476 - val_loss: 0.4182 - val_accuracy: 0.9161\n",
      "Epoch 45/100\n",
      "1142/1142 [==============================] - 109s 95ms/step - loss: 0.4816 - accuracy: 0.8336 - val_loss: 0.4261 - val_accuracy: 0.8706\n",
      "Epoch 46/100\n",
      "1142/1142 [==============================] - 108s 95ms/step - loss: 0.4873 - accuracy: 0.8406 - val_loss: 0.3681 - val_accuracy: 0.9196\n",
      "Epoch 47/100\n",
      "1142/1142 [==============================] - 107s 94ms/step - loss: 0.5067 - accuracy: 0.8319 - val_loss: 0.3440 - val_accuracy: 0.9301\n",
      "Epoch 48/100\n",
      "1142/1142 [==============================] - 108s 95ms/step - loss: 0.4995 - accuracy: 0.8363 - val_loss: 0.3283 - val_accuracy: 0.9301\n",
      "Epoch 49/100\n",
      "1142/1142 [==============================] - 108s 95ms/step - loss: 0.4537 - accuracy: 0.8327 - val_loss: 0.2676 - val_accuracy: 0.9301\n",
      "Epoch 50/100\n",
      "1142/1142 [==============================] - 109s 95ms/step - loss: 0.4161 - accuracy: 0.8485 - val_loss: 0.2764 - val_accuracy: 0.9336\n",
      "Epoch 51/100\n",
      "1142/1142 [==============================] - 109s 96ms/step - loss: 0.4265 - accuracy: 0.8511 - val_loss: 0.2678 - val_accuracy: 0.9301\n",
      "Epoch 52/100\n",
      "1142/1142 [==============================] - 109s 96ms/step - loss: 0.3833 - accuracy: 0.8757 - val_loss: 0.2184 - val_accuracy: 0.9371\n",
      "Epoch 53/100\n",
      "1142/1142 [==============================] - 109s 95ms/step - loss: 0.3626 - accuracy: 0.8765 - val_loss: 0.2627 - val_accuracy: 0.9231\n",
      "Epoch 54/100\n",
      "1142/1142 [==============================] - 108s 94ms/step - loss: 0.3463 - accuracy: 0.8818 - val_loss: 0.1831 - val_accuracy: 0.9545\n",
      "Epoch 55/100\n",
      "1142/1142 [==============================] - 108s 94ms/step - loss: 0.3354 - accuracy: 0.8853 - val_loss: 0.2715 - val_accuracy: 0.9476\n"
     ]
    },
    {
     "name": "stdout",
     "output_type": "stream",
     "text": [
      "Epoch 56/100\n",
      "1142/1142 [==============================] - 108s 94ms/step - loss: 0.3415 - accuracy: 0.8818 - val_loss: 0.1986 - val_accuracy: 0.9510\n",
      "Epoch 57/100\n",
      "1142/1142 [==============================] - 109s 95ms/step - loss: 0.3133 - accuracy: 0.9124 - val_loss: 0.1933 - val_accuracy: 0.9441\n",
      "Epoch 58/100\n",
      "1142/1142 [==============================] - 108s 95ms/step - loss: 0.2749 - accuracy: 0.9177 - val_loss: 0.2415 - val_accuracy: 0.9441\n",
      "Epoch 59/100\n",
      "1142/1142 [==============================] - 108s 95ms/step - loss: 0.2399 - accuracy: 0.9282 - val_loss: 0.2269 - val_accuracy: 0.9510\n",
      "Epoch 60/100\n",
      "1142/1142 [==============================] - 108s 95ms/step - loss: 0.2344 - accuracy: 0.9247 - val_loss: 0.1729 - val_accuracy: 0.9615\n",
      "Epoch 61/100\n",
      "1142/1142 [==============================] - 114s 100ms/step - loss: 0.2515 - accuracy: 0.9212 - val_loss: 0.2591 - val_accuracy: 0.9371\n",
      "Epoch 62/100\n"
     ]
    },
    {
     "ename": "KeyboardInterrupt",
     "evalue": "",
     "output_type": "error",
     "traceback": [
      "\u001b[0;31m---------------------------------------------------------------------------\u001b[0m",
      "\u001b[0;31mKeyboardInterrupt\u001b[0m                         Traceback (most recent call last)",
      "\u001b[0;32m<ipython-input-23-64a2c0550e55>\u001b[0m in \u001b[0;36m<module>\u001b[0;34m\u001b[0m\n\u001b[0;32m----> 1\u001b[0;31m \u001b[0mhist\u001b[0m \u001b[0;34m=\u001b[0m \u001b[0mmodel\u001b[0m\u001b[0;34m.\u001b[0m\u001b[0mfit\u001b[0m\u001b[0;34m(\u001b[0m\u001b[0membeddings_matrix_train\u001b[0m\u001b[0;34m,\u001b[0m\u001b[0my_train\u001b[0m\u001b[0;34m,\u001b[0m \u001b[0mepochs\u001b[0m \u001b[0;34m=\u001b[0m \u001b[0;36m100\u001b[0m\u001b[0;34m,\u001b[0m \u001b[0mbatch_size\u001b[0m \u001b[0;34m=\u001b[0m \u001b[0;36m64\u001b[0m\u001b[0;34m,\u001b[0m\u001b[0mshuffle\u001b[0m\u001b[0;34m=\u001b[0m\u001b[0;32mTrue\u001b[0m\u001b[0;34m,\u001b[0m \u001b[0mvalidation_split\u001b[0m \u001b[0;34m=\u001b[0m \u001b[0;36m0.2\u001b[0m\u001b[0;34m)\u001b[0m\u001b[0;34m\u001b[0m\u001b[0;34m\u001b[0m\u001b[0m\n\u001b[0m",
      "\u001b[0;32m~/anaconda3/lib/python3.7/site-packages/keras/engine/training.py\u001b[0m in \u001b[0;36mfit\u001b[0;34m(self, x, y, batch_size, epochs, verbose, callbacks, validation_split, validation_data, shuffle, class_weight, sample_weight, initial_epoch, steps_per_epoch, validation_steps, validation_freq, max_queue_size, workers, use_multiprocessing, **kwargs)\u001b[0m\n\u001b[1;32m   1237\u001b[0m                                         \u001b[0msteps_per_epoch\u001b[0m\u001b[0;34m=\u001b[0m\u001b[0msteps_per_epoch\u001b[0m\u001b[0;34m,\u001b[0m\u001b[0;34m\u001b[0m\u001b[0;34m\u001b[0m\u001b[0m\n\u001b[1;32m   1238\u001b[0m                                         \u001b[0mvalidation_steps\u001b[0m\u001b[0;34m=\u001b[0m\u001b[0mvalidation_steps\u001b[0m\u001b[0;34m,\u001b[0m\u001b[0;34m\u001b[0m\u001b[0;34m\u001b[0m\u001b[0m\n\u001b[0;32m-> 1239\u001b[0;31m                                         validation_freq=validation_freq)\n\u001b[0m\u001b[1;32m   1240\u001b[0m \u001b[0;34m\u001b[0m\u001b[0m\n\u001b[1;32m   1241\u001b[0m     def evaluate(self,\n",
      "\u001b[0;32m~/anaconda3/lib/python3.7/site-packages/keras/engine/training_arrays.py\u001b[0m in \u001b[0;36mfit_loop\u001b[0;34m(model, fit_function, fit_inputs, out_labels, batch_size, epochs, verbose, callbacks, val_function, val_inputs, shuffle, initial_epoch, steps_per_epoch, validation_steps, validation_freq)\u001b[0m\n\u001b[1;32m    194\u001b[0m                     \u001b[0mins_batch\u001b[0m\u001b[0;34m[\u001b[0m\u001b[0mi\u001b[0m\u001b[0;34m]\u001b[0m \u001b[0;34m=\u001b[0m \u001b[0mins_batch\u001b[0m\u001b[0;34m[\u001b[0m\u001b[0mi\u001b[0m\u001b[0;34m]\u001b[0m\u001b[0;34m.\u001b[0m\u001b[0mtoarray\u001b[0m\u001b[0;34m(\u001b[0m\u001b[0;34m)\u001b[0m\u001b[0;34m\u001b[0m\u001b[0;34m\u001b[0m\u001b[0m\n\u001b[1;32m    195\u001b[0m \u001b[0;34m\u001b[0m\u001b[0m\n\u001b[0;32m--> 196\u001b[0;31m                 \u001b[0mouts\u001b[0m \u001b[0;34m=\u001b[0m \u001b[0mfit_function\u001b[0m\u001b[0;34m(\u001b[0m\u001b[0mins_batch\u001b[0m\u001b[0;34m)\u001b[0m\u001b[0;34m\u001b[0m\u001b[0;34m\u001b[0m\u001b[0m\n\u001b[0m\u001b[1;32m    197\u001b[0m                 \u001b[0mouts\u001b[0m \u001b[0;34m=\u001b[0m \u001b[0mto_list\u001b[0m\u001b[0;34m(\u001b[0m\u001b[0mouts\u001b[0m\u001b[0;34m)\u001b[0m\u001b[0;34m\u001b[0m\u001b[0;34m\u001b[0m\u001b[0m\n\u001b[1;32m    198\u001b[0m                 \u001b[0;32mfor\u001b[0m \u001b[0ml\u001b[0m\u001b[0;34m,\u001b[0m \u001b[0mo\u001b[0m \u001b[0;32min\u001b[0m \u001b[0mzip\u001b[0m\u001b[0;34m(\u001b[0m\u001b[0mout_labels\u001b[0m\u001b[0;34m,\u001b[0m \u001b[0mouts\u001b[0m\u001b[0;34m)\u001b[0m\u001b[0;34m:\u001b[0m\u001b[0;34m\u001b[0m\u001b[0;34m\u001b[0m\u001b[0m\n",
      "\u001b[0;32m~/anaconda3/lib/python3.7/site-packages/tensorflow_core/python/keras/backend.py\u001b[0m in \u001b[0;36m__call__\u001b[0;34m(self, inputs)\u001b[0m\n\u001b[1;32m   3738\u001b[0m         \u001b[0mvalue\u001b[0m \u001b[0;34m=\u001b[0m \u001b[0mmath_ops\u001b[0m\u001b[0;34m.\u001b[0m\u001b[0mcast\u001b[0m\u001b[0;34m(\u001b[0m\u001b[0mvalue\u001b[0m\u001b[0;34m,\u001b[0m \u001b[0mtensor\u001b[0m\u001b[0;34m.\u001b[0m\u001b[0mdtype\u001b[0m\u001b[0;34m)\u001b[0m\u001b[0;34m\u001b[0m\u001b[0;34m\u001b[0m\u001b[0m\n\u001b[1;32m   3739\u001b[0m       \u001b[0mconverted_inputs\u001b[0m\u001b[0;34m.\u001b[0m\u001b[0mappend\u001b[0m\u001b[0;34m(\u001b[0m\u001b[0mvalue\u001b[0m\u001b[0;34m)\u001b[0m\u001b[0;34m\u001b[0m\u001b[0;34m\u001b[0m\u001b[0m\n\u001b[0;32m-> 3740\u001b[0;31m     \u001b[0moutputs\u001b[0m \u001b[0;34m=\u001b[0m \u001b[0mself\u001b[0m\u001b[0;34m.\u001b[0m\u001b[0m_graph_fn\u001b[0m\u001b[0;34m(\u001b[0m\u001b[0;34m*\u001b[0m\u001b[0mconverted_inputs\u001b[0m\u001b[0;34m)\u001b[0m\u001b[0;34m\u001b[0m\u001b[0;34m\u001b[0m\u001b[0m\n\u001b[0m\u001b[1;32m   3741\u001b[0m \u001b[0;34m\u001b[0m\u001b[0m\n\u001b[1;32m   3742\u001b[0m     \u001b[0;31m# EagerTensor.numpy() will often make a copy to ensure memory safety.\u001b[0m\u001b[0;34m\u001b[0m\u001b[0;34m\u001b[0m\u001b[0;34m\u001b[0m\u001b[0m\n",
      "\u001b[0;32m~/anaconda3/lib/python3.7/site-packages/tensorflow_core/python/eager/function.py\u001b[0m in \u001b[0;36m__call__\u001b[0;34m(self, *args, **kwargs)\u001b[0m\n\u001b[1;32m   1079\u001b[0m       \u001b[0mTypeError\u001b[0m\u001b[0;34m:\u001b[0m \u001b[0mFor\u001b[0m \u001b[0minvalid\u001b[0m \u001b[0mpositional\u001b[0m\u001b[0;34m/\u001b[0m\u001b[0mkeyword\u001b[0m \u001b[0margument\u001b[0m \u001b[0mcombinations\u001b[0m\u001b[0;34m.\u001b[0m\u001b[0;34m\u001b[0m\u001b[0;34m\u001b[0m\u001b[0m\n\u001b[1;32m   1080\u001b[0m     \"\"\"\n\u001b[0;32m-> 1081\u001b[0;31m     \u001b[0;32mreturn\u001b[0m \u001b[0mself\u001b[0m\u001b[0;34m.\u001b[0m\u001b[0m_call_impl\u001b[0m\u001b[0;34m(\u001b[0m\u001b[0margs\u001b[0m\u001b[0;34m,\u001b[0m \u001b[0mkwargs\u001b[0m\u001b[0;34m)\u001b[0m\u001b[0;34m\u001b[0m\u001b[0;34m\u001b[0m\u001b[0m\n\u001b[0m\u001b[1;32m   1082\u001b[0m \u001b[0;34m\u001b[0m\u001b[0m\n\u001b[1;32m   1083\u001b[0m   \u001b[0;32mdef\u001b[0m \u001b[0m_call_impl\u001b[0m\u001b[0;34m(\u001b[0m\u001b[0mself\u001b[0m\u001b[0;34m,\u001b[0m \u001b[0margs\u001b[0m\u001b[0;34m,\u001b[0m \u001b[0mkwargs\u001b[0m\u001b[0;34m,\u001b[0m \u001b[0mcancellation_manager\u001b[0m\u001b[0;34m=\u001b[0m\u001b[0;32mNone\u001b[0m\u001b[0;34m)\u001b[0m\u001b[0;34m:\u001b[0m\u001b[0;34m\u001b[0m\u001b[0;34m\u001b[0m\u001b[0m\n",
      "\u001b[0;32m~/anaconda3/lib/python3.7/site-packages/tensorflow_core/python/eager/function.py\u001b[0m in \u001b[0;36m_call_impl\u001b[0;34m(self, args, kwargs, cancellation_manager)\u001b[0m\n\u001b[1;32m   1119\u001b[0m       raise TypeError(\"Keyword arguments {} unknown. Expected {}.\".format(\n\u001b[1;32m   1120\u001b[0m           list(kwargs.keys()), list(self._arg_keywords)))\n\u001b[0;32m-> 1121\u001b[0;31m     \u001b[0;32mreturn\u001b[0m \u001b[0mself\u001b[0m\u001b[0;34m.\u001b[0m\u001b[0m_call_flat\u001b[0m\u001b[0;34m(\u001b[0m\u001b[0margs\u001b[0m\u001b[0;34m,\u001b[0m \u001b[0mself\u001b[0m\u001b[0;34m.\u001b[0m\u001b[0mcaptured_inputs\u001b[0m\u001b[0;34m,\u001b[0m \u001b[0mcancellation_manager\u001b[0m\u001b[0;34m)\u001b[0m\u001b[0;34m\u001b[0m\u001b[0;34m\u001b[0m\u001b[0m\n\u001b[0m\u001b[1;32m   1122\u001b[0m \u001b[0;34m\u001b[0m\u001b[0m\n\u001b[1;32m   1123\u001b[0m   \u001b[0;32mdef\u001b[0m \u001b[0m_filtered_call\u001b[0m\u001b[0;34m(\u001b[0m\u001b[0mself\u001b[0m\u001b[0;34m,\u001b[0m \u001b[0margs\u001b[0m\u001b[0;34m,\u001b[0m \u001b[0mkwargs\u001b[0m\u001b[0;34m)\u001b[0m\u001b[0;34m:\u001b[0m\u001b[0;34m\u001b[0m\u001b[0;34m\u001b[0m\u001b[0m\n",
      "\u001b[0;32m~/anaconda3/lib/python3.7/site-packages/tensorflow_core/python/eager/function.py\u001b[0m in \u001b[0;36m_call_flat\u001b[0;34m(self, args, captured_inputs, cancellation_manager)\u001b[0m\n\u001b[1;32m   1222\u001b[0m     \u001b[0;32mif\u001b[0m \u001b[0mexecuting_eagerly\u001b[0m\u001b[0;34m:\u001b[0m\u001b[0;34m\u001b[0m\u001b[0;34m\u001b[0m\u001b[0m\n\u001b[1;32m   1223\u001b[0m       flat_outputs = forward_function.call(\n\u001b[0;32m-> 1224\u001b[0;31m           ctx, args, cancellation_manager=cancellation_manager)\n\u001b[0m\u001b[1;32m   1225\u001b[0m     \u001b[0;32melse\u001b[0m\u001b[0;34m:\u001b[0m\u001b[0;34m\u001b[0m\u001b[0;34m\u001b[0m\u001b[0m\n\u001b[1;32m   1226\u001b[0m       \u001b[0mgradient_name\u001b[0m \u001b[0;34m=\u001b[0m \u001b[0mself\u001b[0m\u001b[0;34m.\u001b[0m\u001b[0m_delayed_rewrite_functions\u001b[0m\u001b[0;34m.\u001b[0m\u001b[0mregister\u001b[0m\u001b[0;34m(\u001b[0m\u001b[0;34m)\u001b[0m\u001b[0;34m\u001b[0m\u001b[0;34m\u001b[0m\u001b[0m\n",
      "\u001b[0;32m~/anaconda3/lib/python3.7/site-packages/tensorflow_core/python/eager/function.py\u001b[0m in \u001b[0;36mcall\u001b[0;34m(self, ctx, args, cancellation_manager)\u001b[0m\n\u001b[1;32m    509\u001b[0m               \u001b[0minputs\u001b[0m\u001b[0;34m=\u001b[0m\u001b[0margs\u001b[0m\u001b[0;34m,\u001b[0m\u001b[0;34m\u001b[0m\u001b[0;34m\u001b[0m\u001b[0m\n\u001b[1;32m    510\u001b[0m               \u001b[0mattrs\u001b[0m\u001b[0;34m=\u001b[0m\u001b[0;34m(\u001b[0m\u001b[0;34m\"executor_type\"\u001b[0m\u001b[0;34m,\u001b[0m \u001b[0mexecutor_type\u001b[0m\u001b[0;34m,\u001b[0m \u001b[0;34m\"config_proto\"\u001b[0m\u001b[0;34m,\u001b[0m \u001b[0mconfig\u001b[0m\u001b[0;34m)\u001b[0m\u001b[0;34m,\u001b[0m\u001b[0;34m\u001b[0m\u001b[0;34m\u001b[0m\u001b[0m\n\u001b[0;32m--> 511\u001b[0;31m               ctx=ctx)\n\u001b[0m\u001b[1;32m    512\u001b[0m         \u001b[0;32melse\u001b[0m\u001b[0;34m:\u001b[0m\u001b[0;34m\u001b[0m\u001b[0;34m\u001b[0m\u001b[0m\n\u001b[1;32m    513\u001b[0m           outputs = execute.execute_with_cancellation(\n",
      "\u001b[0;32m~/anaconda3/lib/python3.7/site-packages/tensorflow_core/python/eager/execute.py\u001b[0m in \u001b[0;36mquick_execute\u001b[0;34m(op_name, num_outputs, inputs, attrs, ctx, name)\u001b[0m\n\u001b[1;32m     59\u001b[0m     tensors = pywrap_tensorflow.TFE_Py_Execute(ctx._handle, device_name,\n\u001b[1;32m     60\u001b[0m                                                \u001b[0mop_name\u001b[0m\u001b[0;34m,\u001b[0m \u001b[0minputs\u001b[0m\u001b[0;34m,\u001b[0m \u001b[0mattrs\u001b[0m\u001b[0;34m,\u001b[0m\u001b[0;34m\u001b[0m\u001b[0;34m\u001b[0m\u001b[0m\n\u001b[0;32m---> 61\u001b[0;31m                                                num_outputs)\n\u001b[0m\u001b[1;32m     62\u001b[0m   \u001b[0;32mexcept\u001b[0m \u001b[0mcore\u001b[0m\u001b[0;34m.\u001b[0m\u001b[0m_NotOkStatusException\u001b[0m \u001b[0;32mas\u001b[0m \u001b[0me\u001b[0m\u001b[0;34m:\u001b[0m\u001b[0;34m\u001b[0m\u001b[0;34m\u001b[0m\u001b[0m\n\u001b[1;32m     63\u001b[0m     \u001b[0;32mif\u001b[0m \u001b[0mname\u001b[0m \u001b[0;32mis\u001b[0m \u001b[0;32mnot\u001b[0m \u001b[0;32mNone\u001b[0m\u001b[0;34m:\u001b[0m\u001b[0;34m\u001b[0m\u001b[0;34m\u001b[0m\u001b[0m\n",
      "\u001b[0;31mKeyboardInterrupt\u001b[0m: "
     ]
    }
   ],
   "source": [
    "hist = model.fit(embeddings_matrix_train,y_train, epochs = 100, batch_size = 64,shuffle=True, validation_split = 0.2)"
   ]
  },
  {
   "cell_type": "code",
   "execution_count": 28,
   "metadata": {},
   "outputs": [],
   "source": [
    "pred = model.predict_classes(embeddings_matrix_test)"
   ]
  },
  {
   "cell_type": "code",
   "execution_count": 29,
   "metadata": {},
   "outputs": [
    {
     "name": "stdout",
     "output_type": "stream",
     "text": [
      "[2 0 1 0 3 3 0 1 1 0 1 0 0 0 0 1 0 0 3 0 0 0 1 1 0 1 1 0 0 1 1 0 1 0 1 1 3\n",
      " 0 0 3 0 1 1 0 1 1 1 1 0 0 1 0 3 0 1 0 3 0 0 0 0 0 1 0 1 1 3 0 1 1 1 0 0 0\n",
      " 1 3 0 3 2 0 3 3 1 1 1 0 1 0 1 1 3 0 3 0 0 3 3 3 1 1 0 0 0 0 0 0 0 1 1 1 2\n",
      " 3 1 1 1 0 0 2 1 1 0 1 1 1 0 0 0 3 0 0 0 0 3 1 0 1 0 0 1 1 0 0 0 3 3 1 3 0\n",
      " 0 3 0 0 1 0 1 3 0 0 0 1 2 0 1 0 0 1 0 3 0 3 0 0 1 0 3 1 0 0 0 0 0 2 1 0 0\n",
      " 3 1 0 1 0 0 3 3 1 0 0 0 1 2 0 0 3 0 1 0 3 1 3 0 1 0 0 0 0 3 1 1 1 1 1 0 1\n",
      " 0 1 0 1 1 0 1 1 0 0 1 1 0 1 0 0 1 1 1 3 3 0 2 1 1 0 2 1 0 1 1 0 1 3 1 0 0\n",
      " 0 1 1 3 1 1 3 0 1 0 3 0 1 1 0 0 0 3 0 0 1 1 1 3 0 0 1 1 1 0 3 0 0 0 3 0 0\n",
      " 1 1 0 0 0 0 3 3 1 1 1 1 0 0 0 0 3 0 0 0 0 1 1 3 0 0 1 1 1 1 1 1 3 0 0 0 1\n",
      " 1 0 0 1 0 3 1 1 1 1 3 1 2 0 0 1 0 0 1 1 0 0 1 0 0]\n"
     ]
    }
   ],
   "source": [
    "print(pred)"
   ]
  },
  {
   "cell_type": "code",
   "execution_count": 30,
   "metadata": {},
   "outputs": [
    {
     "name": "stdout",
     "output_type": "stream",
     "text": [
      "358/358 [==============================] - 11s 31ms/step\n"
     ]
    },
    {
     "data": {
      "text/plain": [
       "[0.25720409158221835, 0.9357541799545288]"
      ]
     },
     "execution_count": 30,
     "metadata": {},
     "output_type": "execute_result"
    }
   ],
   "source": [
    "model.evaluate(embeddings_matrix_test,y_test)"
   ]
  },
  {
   "cell_type": "markdown",
   "metadata": {},
   "source": [
    "\n"
   ]
  },
  {
   "cell_type": "code",
   "execution_count": 31,
   "metadata": {
    "scrolled": true
   },
   "outputs": [
    {
     "name": "stdout",
     "output_type": "stream",
     "text": [
      "1428/1428 [==============================] - 42s 29ms/step\n"
     ]
    },
    {
     "data": {
      "text/plain": [
       "[0.13410216998648034, 0.9586834907531738]"
      ]
     },
     "execution_count": 31,
     "metadata": {},
     "output_type": "execute_result"
    }
   ],
   "source": [
    "model.evaluate(embeddings_matrix_train,y_train)"
   ]
  },
  {
   "cell_type": "code",
   "execution_count": null,
   "metadata": {},
   "outputs": [],
   "source": []
  },
  {
   "cell_type": "code",
   "execution_count": null,
   "metadata": {},
   "outputs": [],
   "source": []
  }
 ],
 "metadata": {
  "kernelspec": {
   "display_name": "Python 3",
   "language": "python",
   "name": "python3"
  },
  "language_info": {
   "codemirror_mode": {
    "name": "ipython",
    "version": 3
   },
   "file_extension": ".py",
   "mimetype": "text/x-python",
   "name": "python",
   "nbconvert_exporter": "python",
   "pygments_lexer": "ipython3",
   "version": "3.7.4"
  }
 },
 "nbformat": 4,
 "nbformat_minor": 2
}
